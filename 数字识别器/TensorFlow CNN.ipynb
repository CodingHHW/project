{
 "cells": [
  {
   "cell_type": "markdown",
   "metadata": {},
   "source": [
    "# 基于TensorFlow CNN数字识别"
   ]
  },
  {
   "cell_type": "code",
   "execution_count": 1,
   "metadata": {
    "ExecuteTime": {
     "end_time": "2017-03-10T20:28:14.296357",
     "start_time": "2017-03-10T20:28:06.074668"
    },
    "collapsed": false
   },
   "outputs": [
    {
     "name": "stderr",
     "output_type": "stream",
     "text": [
      "Using Theano backend.\n"
     ]
    }
   ],
   "source": [
    "%matplotlib inline\n",
    "import numpy as np\n",
    "import pandas as pd\n",
    "\n",
    "import matplotlib.pyplot as plt\n",
    "import matplotlib.cm as cm\n",
    "import seaborn as sns\n",
    "\n",
    "import tensorflow as tf\n",
    "\n",
    "from keras.utils import np_utils\n",
    "from sklearn.cross_validation import train_test_split\n",
    "\n",
    "LEARNING_RATE = 1e-4# 设置学习速率\n",
    "TRAINING_ITERATIONS = 2500# 迭代次数\n",
    "\n",
    "DROPOUT = 0.5# 防止过拟合\n",
    "BATCH_SIZE = 50# 批下降数据量\n",
    "VALIDATION_SIZE = 2000# 验证大小\n",
    "IMAGE_TO_DISPLAY = 10"
   ]
  },
  {
   "cell_type": "markdown",
   "metadata": {},
   "source": [
    "导入数据，并且数据预处理"
   ]
  },
  {
   "cell_type": "code",
   "execution_count": 2,
   "metadata": {
    "ExecuteTime": {
     "end_time": "2017-03-10T20:28:19.577179",
     "start_time": "2017-03-10T20:28:14.298741"
    },
    "collapsed": false
   },
   "outputs": [
    {
     "name": "stdout",
     "output_type": "stream",
     "text": [
      "(42000, 785)\n"
     ]
    },
    {
     "data": {
      "text/html": [
       "<div>\n",
       "<table border=\"1\" class=\"dataframe\">\n",
       "  <thead>\n",
       "    <tr style=\"text-align: right;\">\n",
       "      <th></th>\n",
       "      <th>label</th>\n",
       "      <th>pixel0</th>\n",
       "      <th>pixel1</th>\n",
       "      <th>pixel2</th>\n",
       "      <th>pixel3</th>\n",
       "      <th>pixel4</th>\n",
       "      <th>pixel5</th>\n",
       "      <th>pixel6</th>\n",
       "      <th>pixel7</th>\n",
       "      <th>pixel8</th>\n",
       "      <th>...</th>\n",
       "      <th>pixel774</th>\n",
       "      <th>pixel775</th>\n",
       "      <th>pixel776</th>\n",
       "      <th>pixel777</th>\n",
       "      <th>pixel778</th>\n",
       "      <th>pixel779</th>\n",
       "      <th>pixel780</th>\n",
       "      <th>pixel781</th>\n",
       "      <th>pixel782</th>\n",
       "      <th>pixel783</th>\n",
       "    </tr>\n",
       "  </thead>\n",
       "  <tbody>\n",
       "    <tr>\n",
       "      <th>0</th>\n",
       "      <td>1</td>\n",
       "      <td>0</td>\n",
       "      <td>0</td>\n",
       "      <td>0</td>\n",
       "      <td>0</td>\n",
       "      <td>0</td>\n",
       "      <td>0</td>\n",
       "      <td>0</td>\n",
       "      <td>0</td>\n",
       "      <td>0</td>\n",
       "      <td>...</td>\n",
       "      <td>0</td>\n",
       "      <td>0</td>\n",
       "      <td>0</td>\n",
       "      <td>0</td>\n",
       "      <td>0</td>\n",
       "      <td>0</td>\n",
       "      <td>0</td>\n",
       "      <td>0</td>\n",
       "      <td>0</td>\n",
       "      <td>0</td>\n",
       "    </tr>\n",
       "    <tr>\n",
       "      <th>1</th>\n",
       "      <td>0</td>\n",
       "      <td>0</td>\n",
       "      <td>0</td>\n",
       "      <td>0</td>\n",
       "      <td>0</td>\n",
       "      <td>0</td>\n",
       "      <td>0</td>\n",
       "      <td>0</td>\n",
       "      <td>0</td>\n",
       "      <td>0</td>\n",
       "      <td>...</td>\n",
       "      <td>0</td>\n",
       "      <td>0</td>\n",
       "      <td>0</td>\n",
       "      <td>0</td>\n",
       "      <td>0</td>\n",
       "      <td>0</td>\n",
       "      <td>0</td>\n",
       "      <td>0</td>\n",
       "      <td>0</td>\n",
       "      <td>0</td>\n",
       "    </tr>\n",
       "    <tr>\n",
       "      <th>2</th>\n",
       "      <td>1</td>\n",
       "      <td>0</td>\n",
       "      <td>0</td>\n",
       "      <td>0</td>\n",
       "      <td>0</td>\n",
       "      <td>0</td>\n",
       "      <td>0</td>\n",
       "      <td>0</td>\n",
       "      <td>0</td>\n",
       "      <td>0</td>\n",
       "      <td>...</td>\n",
       "      <td>0</td>\n",
       "      <td>0</td>\n",
       "      <td>0</td>\n",
       "      <td>0</td>\n",
       "      <td>0</td>\n",
       "      <td>0</td>\n",
       "      <td>0</td>\n",
       "      <td>0</td>\n",
       "      <td>0</td>\n",
       "      <td>0</td>\n",
       "    </tr>\n",
       "    <tr>\n",
       "      <th>3</th>\n",
       "      <td>4</td>\n",
       "      <td>0</td>\n",
       "      <td>0</td>\n",
       "      <td>0</td>\n",
       "      <td>0</td>\n",
       "      <td>0</td>\n",
       "      <td>0</td>\n",
       "      <td>0</td>\n",
       "      <td>0</td>\n",
       "      <td>0</td>\n",
       "      <td>...</td>\n",
       "      <td>0</td>\n",
       "      <td>0</td>\n",
       "      <td>0</td>\n",
       "      <td>0</td>\n",
       "      <td>0</td>\n",
       "      <td>0</td>\n",
       "      <td>0</td>\n",
       "      <td>0</td>\n",
       "      <td>0</td>\n",
       "      <td>0</td>\n",
       "    </tr>\n",
       "    <tr>\n",
       "      <th>4</th>\n",
       "      <td>0</td>\n",
       "      <td>0</td>\n",
       "      <td>0</td>\n",
       "      <td>0</td>\n",
       "      <td>0</td>\n",
       "      <td>0</td>\n",
       "      <td>0</td>\n",
       "      <td>0</td>\n",
       "      <td>0</td>\n",
       "      <td>0</td>\n",
       "      <td>...</td>\n",
       "      <td>0</td>\n",
       "      <td>0</td>\n",
       "      <td>0</td>\n",
       "      <td>0</td>\n",
       "      <td>0</td>\n",
       "      <td>0</td>\n",
       "      <td>0</td>\n",
       "      <td>0</td>\n",
       "      <td>0</td>\n",
       "      <td>0</td>\n",
       "    </tr>\n",
       "  </tbody>\n",
       "</table>\n",
       "<p>5 rows × 785 columns</p>\n",
       "</div>"
      ],
      "text/plain": [
       "   label  pixel0  pixel1  pixel2  pixel3  pixel4  pixel5  pixel6  pixel7  \\\n",
       "0      1       0       0       0       0       0       0       0       0   \n",
       "1      0       0       0       0       0       0       0       0       0   \n",
       "2      1       0       0       0       0       0       0       0       0   \n",
       "3      4       0       0       0       0       0       0       0       0   \n",
       "4      0       0       0       0       0       0       0       0       0   \n",
       "\n",
       "   pixel8    ...     pixel774  pixel775  pixel776  pixel777  pixel778  \\\n",
       "0       0    ...            0         0         0         0         0   \n",
       "1       0    ...            0         0         0         0         0   \n",
       "2       0    ...            0         0         0         0         0   \n",
       "3       0    ...            0         0         0         0         0   \n",
       "4       0    ...            0         0         0         0         0   \n",
       "\n",
       "   pixel779  pixel780  pixel781  pixel782  pixel783  \n",
       "0         0         0         0         0         0  \n",
       "1         0         0         0         0         0  \n",
       "2         0         0         0         0         0  \n",
       "3         0         0         0         0         0  \n",
       "4         0         0         0         0         0  \n",
       "\n",
       "[5 rows x 785 columns]"
      ]
     },
     "execution_count": 2,
     "metadata": {},
     "output_type": "execute_result"
    }
   ],
   "source": [
    "data = pd.read_csv('/Users/hehongwei/datas/数字识别器/train.csv')\n",
    "print data.shape\n",
    "data.head()"
   ]
  },
  {
   "cell_type": "code",
   "execution_count": 3,
   "metadata": {
    "ExecuteTime": {
     "end_time": "2017-03-10T20:28:19.976484",
     "start_time": "2017-03-10T20:28:19.579684"
    },
    "collapsed": false
   },
   "outputs": [
    {
     "data": {
      "text/plain": [
       "(42000, 784)"
      ]
     },
     "execution_count": 3,
     "metadata": {},
     "output_type": "execute_result"
    }
   ],
   "source": [
    "images = data.iloc[:, 1:].values\n",
    "images = images.astype('float')\n",
    "images = images / 255\n",
    "images.shape"
   ]
  },
  {
   "cell_type": "code",
   "execution_count": 4,
   "metadata": {
    "ExecuteTime": {
     "end_time": "2017-03-10T20:28:20.455421",
     "start_time": "2017-03-10T20:28:19.978915"
    },
    "collapsed": false
   },
   "outputs": [
    {
     "data": {
      "text/plain": [
       "<matplotlib.image.AxesImage at 0x1400115d0>"
      ]
     },
     "execution_count": 4,
     "metadata": {},
     "output_type": "execute_result"
    },
    {
     "data": {
      "image/png": "[encoded data removed]",
      "text/plain": [
       "<matplotlib.figure.Figure at 0x1047b9cd0>"
      ]
     },
     "metadata": {},
     "output_type": "display_data"
    }
   ],
   "source": [
    "plt.imshow(images[10].reshape(28, 28))"
   ]
  },
  {
   "cell_type": "code",
   "execution_count": 5,
   "metadata": {
    "ExecuteTime": {
     "end_time": "2017-03-10T20:28:20.476984",
     "start_time": "2017-03-10T20:28:20.459829"
    },
    "collapsed": false
   },
   "outputs": [
    {
     "name": "stdout",
     "output_type": "stream",
     "text": [
      "(42000,)\n",
      "<type 'numpy.ndarray'>\n"
     ]
    }
   ],
   "source": [
    "labels_flat = data['label'].values\n",
    "print labels_flat.shape\n",
    "print type(labels_flat)"
   ]
  },
  {
   "cell_type": "code",
   "execution_count": 6,
   "metadata": {
    "ExecuteTime": {
     "end_time": "2017-03-10T20:28:20.490271",
     "start_time": "2017-03-10T20:28:20.480266"
    },
    "collapsed": false
   },
   "outputs": [
    {
     "name": "stdout",
     "output_type": "stream",
     "text": [
      "(42000, 10)\n",
      "[ 0.  1.  0.  0.  0.  0.  0.  0.  0.  0.]\n"
     ]
    }
   ],
   "source": [
    "labels = np_utils.to_categorical(labels_flat)\n",
    "print labels.shape\n",
    "print labels[0]"
   ]
  },
  {
   "cell_type": "code",
   "execution_count": 7,
   "metadata": {
    "ExecuteTime": {
     "end_time": "2017-03-10T20:28:21.499445",
     "start_time": "2017-03-10T20:28:20.492953"
    },
    "collapsed": false
   },
   "outputs": [
    {
     "name": "stdout",
     "output_type": "stream",
     "text": [
      "(31500, 784)\n",
      "(31500, 10)\n",
      "(10500, 784)\n",
      "(10500, 10)\n"
     ]
    }
   ],
   "source": [
    "train_images, validation_images, train_labels, validation_labels = train_test_split(images, labels)\n",
    "print train_images.shape\n",
    "print train_labels.shape\n",
    "print validation_images.shape\n",
    "print validation_labels.shape"
   ]
  },
  {
   "cell_type": "markdown",
   "metadata": {},
   "source": [
    "### TensorFlow 深度学习"
   ]
  },
  {
   "cell_type": "markdown",
   "metadata": {
    "collapsed": false
   },
   "source": [
    "定义权重和偏差"
   ]
  },
  {
   "cell_type": "code",
   "execution_count": 8,
   "metadata": {
    "ExecuteTime": {
     "end_time": "2017-03-10T20:28:21.508097",
     "start_time": "2017-03-10T20:28:21.501921"
    },
    "collapsed": false
   },
   "outputs": [],
   "source": [
    "def weight_varible(shape):\n",
    "    '''参数均值为0，方差为0.1满足正态分布的初始矩阵'''\n",
    "    initial = tf.truncated_normal(shape, stddev=0.1)\n",
    "    return tf.Variable(initial)\n",
    "def biase_varible(shape):\n",
    "    '''定义偏差为常数值'''\n",
    "    initial = tf.constant(0.1, shape=shape)\n",
    "    return tf.Variable(initial)"
   ]
  },
  {
   "cell_type": "markdown",
   "metadata": {
    "collapsed": false
   },
   "source": [
    "定义卷积核池化"
   ]
  },
  {
   "cell_type": "code",
   "execution_count": 9,
   "metadata": {
    "ExecuteTime": {
     "end_time": "2017-03-10T20:28:21.517658",
     "start_time": "2017-03-10T20:28:21.510906"
    },
    "collapsed": false
   },
   "outputs": [],
   "source": [
    "def conv2d(x, W):\n",
    "    ''' \n",
    "    定义卷积层，步长为strides=[1, 1, 1, 1],左右2个1是默认值,这样的参数不会压缩图片尺寸\n",
    "    x是图像参数，W是这个卷积层的权重\n",
    "    '''\n",
    "    return tf.nn.conv2d(x, W, strides=[1, 1, 1, 1], padding='SAME')\n",
    "def max_poo_2x2(x):\n",
    "    '''\n",
    "    2*2的池化，表示每2*2个像素点，取最大的那个值表示，步长为2\n",
    "    这样图像尺寸压缩为0.5*0.5\n",
    "    '''\n",
    "    return tf.nn.max_pool(x, ksize=[1, 2, 2, 1], strides=[1, 2, 2, 1], padding='SAME')"
   ]
  },
  {
   "cell_type": "markdown",
   "metadata": {
    "collapsed": false
   },
   "source": [
    "开始添加神经层"
   ]
  },
  {
   "cell_type": "code",
   "execution_count": 10,
   "metadata": {
    "ExecuteTime": {
     "end_time": "2017-03-10T20:28:21.555175",
     "start_time": "2017-03-10T20:28:21.520775"
    },
    "collapsed": false
   },
   "outputs": [],
   "source": [
    "with tf.name_scope('inputs'):\n",
    "    # 定义输入值空间\n",
    "    xs = tf.placeholder(tf.float32, [None, 784], name='x_input') # 训练数据类型为None*784\n",
    "    ys = tf.placeholder(tf.float32, [None, 10], name='y_input') # 标签值为None*10\n",
    "    keep_prob = tf.placeholder(tf.float32, name='drop_prob') # 定义一个dropout值"
   ]
  },
  {
   "cell_type": "code",
   "execution_count": 11,
   "metadata": {
    "ExecuteTime": {
     "end_time": "2017-03-10T20:28:21.572354",
     "start_time": "2017-03-10T20:28:21.560491"
    },
    "collapsed": true
   },
   "outputs": [],
   "source": [
    "# 处理xs\n",
    "x_image = tf.reshape(xs, [-1, 28, 28, 1]) # 将图片预处理为TensorFlow能够计算的输入类型数据（样本数*长*宽*颜色通道）"
   ]
  },
  {
   "cell_type": "markdown",
   "metadata": {
    "collapsed": true
   },
   "source": [
    "定义第一层卷积核\n",
    "- 定义W和b\n",
    "- 进行卷积计算\n",
    "- 池化"
   ]
  },
  {
   "cell_type": "code",
   "execution_count": 12,
   "metadata": {
    "ExecuteTime": {
     "end_time": "2017-03-10T20:28:21.645825",
     "start_time": "2017-03-10T20:28:21.577612"
    },
    "collapsed": false
   },
   "outputs": [],
   "source": [
    "with tf.name_scope('conv1'):\n",
    "    # 32个5*5*1的经过初始化的卷积核\n",
    "    with tf.name_scope('weights'):\n",
    "        W_conv1 = weight_varible([5, 5, 1, 32])\n",
    "        tf.summary.histogram('conv1_weights', W_conv1)\n",
    "    with tf.name_scope('biases'):\n",
    "        b_conv1 = biase_varible([32])\n",
    "        tf.summary.histogram('conv1_biases', b_conv1)\n",
    "    # 通过卷积后再进行非线性relu处理\n",
    "    with tf.name_scope('h_conv1'):\n",
    "        h_conv1 = tf.nn.relu(conv2d(x_image, W_conv1) + b_conv1) #由于用得是SAME，所以尺寸为-1*28*28*32\n",
    "        tf.summary.histogram('conv1_h', h_conv1)\n",
    "    # 池化\n",
    "    with tf.name_scope('h_pool1'):\n",
    "        h_pool1 = max_poo_2x2(h_conv1) # 经过池化之后，尺寸降为-1*14*14*32\n",
    "        tf.summary.histogram('conv1_h_pool1', h_pool1)\n",
    "    # 添加dropout防止过拟合\n",
    "    # h_pool1_drop = tf.nn.dropout(h_pool1, keep_prob=keep_prob)\n",
    "    # h_pool1_drop = h_pool1\n",
    "    # 计算得到的h_pool1_drop就是下一层的输入值"
   ]
  },
  {
   "cell_type": "markdown",
   "metadata": {
    "collapsed": false
   },
   "source": [
    "计算测试一下其第一层的某些 输出值"
   ]
  },
  {
   "cell_type": "code",
   "execution_count": 13,
   "metadata": {
    "ExecuteTime": {
     "end_time": "2017-03-10T20:28:21.664438",
     "start_time": "2017-03-10T20:28:21.657193"
    },
    "collapsed": false
   },
   "outputs": [],
   "source": [
    "# sess = tf.Session()\n",
    "# init = tf.global_variables_initializer()\n",
    "# sess.run(init)\n",
    "# cs = sess.run(h_pool1_drop, feed_dict={xs: train_images, ys: train_labels, keep_prob: 0.5})"
   ]
  },
  {
   "cell_type": "code",
   "execution_count": 14,
   "metadata": {
    "ExecuteTime": {
     "end_time": "2017-03-10T20:28:21.686629",
     "start_time": "2017-03-10T20:28:21.673540"
    },
    "collapsed": false
   },
   "outputs": [],
   "source": [
    "# cs.shape"
   ]
  },
  {
   "cell_type": "markdown",
   "metadata": {
    "ExecuteTime": {
     "end_time": "2017-03-10T13:40:47.058173",
     "start_time": "2017-03-10T13:40:47.039008"
    }
   },
   "source": [
    "定义第二层卷积核，本层输入图像x为上一层的h_pool1_drop,尺寸为-1*14*14*32，这一次，将图像进一步变小，变厚"
   ]
  },
  {
   "cell_type": "code",
   "execution_count": 15,
   "metadata": {
    "ExecuteTime": {
     "end_time": "2017-03-10T20:28:21.771464",
     "start_time": "2017-03-10T20:28:21.694541"
    },
    "collapsed": false
   },
   "outputs": [],
   "source": [
    "with tf.name_scope('conv2'):\n",
    "    with tf.name_scope('weights'):\n",
    "        # 定义64个5*5*32的经过初始化的卷积核\n",
    "        W_conv2 = weight_varible([5, 5, 32, 64])\n",
    "        tf.summary.histogram('conv2_weights', W_conv2)\n",
    "    with tf.name_scope('biases'):\n",
    "        b_conv2 = biase_varible([64])\n",
    "        tf.summary.histogram('conv2_biases', b_conv2)\n",
    "    with tf.name_scope('h_conv2'):\n",
    "        h_conv2 = tf.nn.relu(conv2d(h_pool1, W_conv2) + b_conv2) # 由于用的是SAME，这里图像尺寸为-1*14*14*64\n",
    "        tf.summary.histogram('conv2_h', h_conv2)\n",
    "    with tf.name_scope('h_pool2'):\n",
    "        h_pool2 = max_poo_2x2(h_conv2) # 池化之后图片变为-1*7*7*64\n",
    "        tf.summary.histogram('conv2_h_pool2', h_pool2)\n",
    "    # h_pool2_drop = tf.nn.dropout(h_pool2, keep_prob=keep_prob)\n",
    "    # h_pool2_drop = h_pool2"
   ]
  },
  {
   "cell_type": "markdown",
   "metadata": {},
   "source": [
    "在测试一下"
   ]
  },
  {
   "cell_type": "code",
   "execution_count": 16,
   "metadata": {
    "ExecuteTime": {
     "end_time": "2017-03-10T20:28:21.778826",
     "start_time": "2017-03-10T20:28:21.774536"
    },
    "collapsed": true
   },
   "outputs": [],
   "source": [
    "# sess = tf.Session()\n",
    "# init = tf.global_variables_initializer()\n",
    "# sess.run(init)\n",
    "# cs2 = sess.run(h_pool2_drop, feed_dict={xs: train_images, ys: train_labels, keep_prob: 0.5})"
   ]
  },
  {
   "cell_type": "code",
   "execution_count": 17,
   "metadata": {
    "ExecuteTime": {
     "end_time": "2017-03-10T20:28:21.790430",
     "start_time": "2017-03-10T20:28:21.782045"
    },
    "collapsed": false
   },
   "outputs": [],
   "source": [
    "# cs2.shape"
   ]
  },
  {
   "cell_type": "markdown",
   "metadata": {
    "ExecuteTime": {
     "end_time": "2017-03-10T13:59:54.608765",
     "start_time": "2017-03-10T13:59:54.590816"
    }
   },
   "source": [
    "下面添加全连接层\n",
    "- 将卷积层的输出展平\n",
    "- 添加全连接层的隐藏层\n",
    "- 输出层"
   ]
  },
  {
   "cell_type": "code",
   "execution_count": 18,
   "metadata": {
    "ExecuteTime": {
     "end_time": "2017-03-10T20:28:21.814922",
     "start_time": "2017-03-10T20:28:21.793635"
    },
    "collapsed": false
   },
   "outputs": [],
   "source": [
    "with tf.name_scope('flatten'):\n",
    "    h_pool2_drop_flat = tf.reshape(h_pool2, [-1, 7*7*64])\n",
    "    tf.summary.histogram('flatten', h_pool2_drop_flat)"
   ]
  },
  {
   "cell_type": "code",
   "execution_count": 19,
   "metadata": {
    "ExecuteTime": {
     "end_time": "2017-03-10T20:28:21.893524",
     "start_time": "2017-03-10T20:28:21.818628"
    },
    "collapsed": false
   },
   "outputs": [],
   "source": [
    "with tf.name_scope('full_layer1'):\n",
    "    # 添加一个隐藏层，隐藏层神经元数量为1024个\n",
    "    W_fc1 = weight_varible([7*7*64, 1024])\n",
    "    b_fc1 = biase_varible([1024])\n",
    "    h_fc1 = tf.nn.relu(tf.matmul(h_pool2_drop_flat, W_fc1) + b_fc1)\n",
    "    h_fc1_drop = tf.nn.dropout(h_fc1, keep_prob)"
   ]
  },
  {
   "cell_type": "code",
   "execution_count": 20,
   "metadata": {
    "ExecuteTime": {
     "end_time": "2017-03-10T20:28:21.901316",
     "start_time": "2017-03-10T20:28:21.897039"
    },
    "collapsed": true
   },
   "outputs": [],
   "source": [
    "# 添加第二个隐藏层，64个神经元\n",
    "# W_fc2 = weight_varible([1024, 64])\n",
    "# b_fc2 = biase_varible([64])\n",
    "# h_fc2 = tf.nn.relu(tf.matmul(h_fc1_drop, W_fc2) + b_fc2)\n",
    "# h_fc2_drop = tf.nn.dropout(h_fc2, keep_prob)"
   ]
  },
  {
   "cell_type": "code",
   "execution_count": 21,
   "metadata": {
    "ExecuteTime": {
     "end_time": "2017-03-10T20:28:21.935769",
     "start_time": "2017-03-10T20:28:21.904390"
    },
    "collapsed": false
   },
   "outputs": [],
   "source": [
    "with tf.name_scope('full_layer2'):\n",
    "    # 添加输出层\n",
    "    W_fc3 = weight_varible([1024, 10])\n",
    "    b_fc3 = biase_varible([10])\n",
    "    prediction = tf.nn.softmax(tf.matmul(h_fc1_drop, W_fc3) + b_fc3) # 使用softmax分类"
   ]
  },
  {
   "cell_type": "markdown",
   "metadata": {},
   "source": [
    "神经层全部搭建完毕之后，需要代价函数，使用交叉熵损失函数"
   ]
  },
  {
   "cell_type": "code",
   "execution_count": 22,
   "metadata": {
    "ExecuteTime": {
     "end_time": "2017-03-10T20:28:21.962590",
     "start_time": "2017-03-10T20:28:21.939256"
    },
    "collapsed": true
   },
   "outputs": [],
   "source": [
    "with tf.name_scope('cross_entropy'):\n",
    "    cross_entropy = tf.reduce_mean(-tf.reduce_sum(ys * tf.log(prediction), reduction_indices=[1]))\n",
    "    tf.summary.scalar('loss', cross_entropy)"
   ]
  },
  {
   "cell_type": "markdown",
   "metadata": {},
   "source": [
    "用tf.train.AdamOptimizer()作为我们的优化器进行优化，使我们的cross_entropy最小"
   ]
  },
  {
   "cell_type": "code",
   "execution_count": 23,
   "metadata": {
    "ExecuteTime": {
     "end_time": "2017-03-10T20:28:22.552655",
     "start_time": "2017-03-10T20:28:21.965216"
    },
    "collapsed": true
   },
   "outputs": [],
   "source": [
    "with tf.name_scope('train_step'):\n",
    "    train_step = tf.train.AdamOptimizer(1e-4).minimize(cross_entropy)"
   ]
  },
  {
   "cell_type": "code",
   "execution_count": 24,
   "metadata": {
    "ExecuteTime": {
     "end_time": "2017-03-10T20:28:25.662677",
     "start_time": "2017-03-10T20:28:22.554713"
    },
    "collapsed": true
   },
   "outputs": [],
   "source": [
    "sess = tf.Session()\n",
    "merged = tf.summary.merge_all()\n",
    "train_writer = tf.summary.FileWriter('logs/train', sess.graph)\n",
    "test_writer = tf.summary.FileWriter('logs/test', sess.graph)\n",
    "init = tf.global_variables_initializer()\n",
    "sess.run(init)"
   ]
  },
  {
   "cell_type": "code",
   "execution_count": 25,
   "metadata": {
    "ExecuteTime": {
     "end_time": "2017-03-10T20:28:25.696613",
     "start_time": "2017-03-10T20:28:25.675881"
    },
    "collapsed": true
   },
   "outputs": [],
   "source": [
    "# 计算精确度\n",
    "def compute_accuracy(v_xs, v_ys):\n",
    "    global prediction\n",
    "    y_pre = sess.run(prediction, feed_dict={xs: v_xs, ys: v_ys, keep_prob: 0.5})\n",
    "    correct_prediction = tf.equal(tf.argmax(y_pre, 1), tf.argmax(v_ys, 1))\n",
    "    accuracy = tf.reduce_mean(tf.cast(correct_prediction, tf.float32))\n",
    "    result = sess.run(accuracy, feed_dict={xs: v_xs, ys: v_ys, keep_prob: 1})\n",
    "    return result"
   ]
  },
  {
   "cell_type": "code",
   "execution_count": null,
   "metadata": {
    "ExecuteTime": {
     "start_time": "2017-03-10T12:31:24.022Z"
    },
    "collapsed": false
   },
   "outputs": [
    {
     "name": "stdout",
     "output_type": "stream",
     "text": [
      "0.101524\n",
      "0.43981\n",
      "0.663429\n"
     ]
    }
   ],
   "source": [
    "for i in range(1000):\n",
    "    j = i * 50 % 31500\n",
    "    batch_xs = train_images[j: j+50]\n",
    "    batch_ys = train_labels[j: j+50]\n",
    "    sess.run(train_step, feed_dict={xs: batch_xs, ys: batch_ys, keep_prob: 0.5})\n",
    "    if i % 50 == 0:\n",
    "        print compute_accuracy(validation_images, validation_labels)\n",
    "        train_result = sess.run(merged, feed_dict={xs: batch_xs, ys: batch_ys, keep_prob: 1})\n",
    "        test_result = sess.run(merged, feed_dict={xs: batch_xs, ys: batch_ys, keep_prob: 1})\n",
    "        train_writer.add_summary(train_result, i)\n",
    "        test_writer.add_summary(test_result, i)"
   ]
  },
  {
   "cell_type": "code",
   "execution_count": null,
   "metadata": {
    "collapsed": true
   },
   "outputs": [],
   "source": []
  },
  {
   "cell_type": "code",
   "execution_count": null,
   "metadata": {
    "collapsed": true
   },
   "outputs": [],
   "source": []
  },
  {
   "cell_type": "markdown",
   "metadata": {},
   "source": [
    "<img  src=\"graph.png\"/>"
   ]
  },
  {
   "cell_type": "markdown",
   "metadata": {},
   "source": [
    "<img  src=\"loss.png\"/>"
   ]
  }
 ],
 "metadata": {
  "anaconda-cloud": {},
  "kernelspec": {
   "display_name": "Python [conda root]",
   "language": "python",
   "name": "conda-root-py"
  },
  "language_info": {
   "codemirror_mode": {
    "name": "ipython",
    "version": 2
   },
   "file_extension": ".py",
   "mimetype": "text/x-python",
   "name": "python",
   "nbconvert_exporter": "python",
   "pygments_lexer": "ipython2",
   "version": "2.7.12"
  },
  "toc": {
   "colors": {
    "hover_highlight": "#DAA520",
    "running_highlight": "#FF0000",
    "selected_highlight": "#FFD700"
   },
   "moveMenuLeft": true,
   "nav_menu": {
    "height": "48px",
    "width": "252px"
   },
   "navigate_menu": true,
   "number_sections": true,
   "sideBar": true,
   "threshold": 4,
   "toc_cell": false,
   "toc_section_display": "block",
   "toc_window_display": false
  }
 },
 "nbformat": 4,
 "nbformat_minor": 1
}
