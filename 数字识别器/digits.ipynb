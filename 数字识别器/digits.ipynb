{
 "cells": [
  {
   "cell_type": "markdown",
   "metadata": {},
   "source": [
    "# 基于Keras的CNN数字识别"
   ]
  },
  {
   "cell_type": "code",
   "execution_count": 54,
   "metadata": {
    "collapsed": false
   },
   "outputs": [],
   "source": [
    "%matplotlib inline\n",
    "import numpy as np\n",
    "import pandas as pd\n",
    "import matplotlib.pyplot as plt\n",
    "import seaborn as sns\n",
    "from sklearn.cross_validation import train_test_split\n",
    "\n",
    "from keras.models import Sequential, Model\n",
    "from keras.layers import Dense, Dropout, Convolution2D, MaxPooling2D, Flatten, Activation\n",
    "\n",
    "from keras.utils import np_utils\n",
    "%config inlineBackend.figure_format = 'retina'"
   ]
  },
  {
   "cell_type": "code",
   "execution_count": 39,
   "metadata": {
    "collapsed": false
   },
   "outputs": [
    {
     "name": "stdout",
     "output_type": "stream",
     "text": [
      "<class 'pandas.core.frame.DataFrame'>\n",
      "(42000, 785)\n",
      "(28000, 784)\n"
     ]
    }
   ],
   "source": [
    "# 加载数据\n",
    "train = pd.read_csv('train.csv')\n",
    "test = pd.read_csv('test.csv')\n",
    "print type(train)\n",
    "print train.shape\n",
    "print test.shape"
   ]
  },
  {
   "cell_type": "code",
   "execution_count": 41,
   "metadata": {
    "collapsed": false
   },
   "outputs": [
    {
     "name": "stdout",
     "output_type": "stream",
     "text": [
      "<type 'numpy.ndarray'> (42000, 1, 28, 28)\n",
      "<type 'numpy.ndarray'> (42000, 10)\n",
      "<type 'numpy.ndarray'> (28000, 1, 28, 28)\n",
      "10\n"
     ]
    }
   ],
   "source": [
    "# 整理好训练集和测试集 为Keras需要的数据形式\n",
    "X_train = train.iloc[:,1:].values\n",
    "X_train = X_train.reshape(X_train.shape[0], 1, 28, 28).astype('float')\n",
    "X_train = X_train/255\n",
    "\n",
    "y_train = train['label'].values\n",
    "y_train = np_utils.to_categorical(y_train)\n",
    "num_classes = y_train.shape[1]\n",
    "\n",
    "X_test = test.values\n",
    "X_test = X_test.reshape(X_test.shape[0], 1, 28, 28).astype('float')\n",
    "X_test = X_test/255\n",
    "\n",
    "print type(X_train), X_train.shape\n",
    "print type(y_train), y_train.shape\n",
    "print type(X_test), X_test.shape\n",
    "print num_classes"
   ]
  },
  {
   "cell_type": "code",
   "execution_count": 42,
   "metadata": {
    "collapsed": false
   },
   "outputs": [
    {
     "name": "stdout",
     "output_type": "stream",
     "text": [
      "(31500, 1, 28, 28)\n",
      "(31500, 10)\n",
      "(10500, 1, 28, 28)\n",
      "(10500, 10)\n"
     ]
    }
   ],
   "source": [
    "# 讲训练集划分交叉验证集\n",
    "X_train1, X_train2, y_train1, y_train2 = train_test_split(X_train, y_train)\n",
    "print X_train1.shape\n",
    "print y_train1.shape\n",
    "print X_train2.shape\n",
    "print y_train2.shape"
   ]
  },
  {
   "cell_type": "code",
   "execution_count": 44,
   "metadata": {
    "collapsed": false
   },
   "outputs": [
    {
     "data": {
      "text/plain": [
       "<matplotlib.image.AxesImage at 0x11bc6ecd0>"
      ]
     },
     "execution_count": 44,
     "metadata": {},
     "output_type": "execute_result"
    },
    {
     "data": {
      "image/png": "[encoded data removed]",
      "text/plain": [
       "<matplotlib.figure.Figure at 0x1185ed3d0>"
      ]
     },
     "metadata": {},
     "output_type": "display_data"
    }
   ],
   "source": [
    "plt.imshow(X_train[10][0], cmap='gray')"
   ]
  },
  {
   "cell_type": "code",
   "execution_count": 45,
   "metadata": {
    "collapsed": false
   },
   "outputs": [],
   "source": [
    "# 构建模型CNN\n",
    "model = Sequential()\n",
    "# 32个5*5的卷积核，输入图像为1*28*28，input_shape在Theano中为(1,28,28)，在TensorFlow中为(28,28,1)\n",
    "# 激活函数为relu，其他还有sigmoid，tanh\n",
    "model.add(Convolution2D(30, 5, 5, border_mode='valid', input_shape=(1, 28, 28), activation='relu'))\n",
    "# 降采样，就是用一个值来代替一块区域，这个值可以是区域的平均值，最大值，最小值等等，目的就是减少数据量。\n",
    "# 使用MaxPooling，也就是取2*2的矩阵中最大的那一个代表这一块的特征。 经过降采样后，原来28*28的矩阵就只有14*14了，分成4块\n",
    "model.add(MaxPooling2D(pool_size=(2, 2)))\n",
    "# Dropout 防止过拟合\n",
    "model.add(Dropout(0.4))\n",
    "# 第二层卷积层，15个3*3的卷积核\n",
    "model.add(Convolution2D(15, 3, 3, activation='relu'))\n",
    "# 再池化\n",
    "model.add(MaxPooling2D(pool_size=(2, 2)))\n",
    "model.add(Dropout(0.3))\n",
    "# 这上面有2个卷积层\n",
    "# Flatten 将一个多维矩阵展开，铺平成一个一维的向量。为后面的全连接做准备。\n",
    "model.add(Flatten())\n",
    "# 加入第一层神经网络，隐藏层128个神经元\n",
    "model.add(Dense(128, activation='relu'))\n",
    "model.add(Dropout(0.4))\n",
    "# 加入第二城神经网络，隐藏层50个\n",
    "model.add(Dense(50, activation='relu'))\n",
    "model.add(Dropout(0.4))\n",
    "# 上面是2个隐藏层\n",
    "# 输出层，输出神经元num_classes=10个，输出函数为softmax多元分类\n",
    "model.add(Dense(num_classes, activation='softmax'))\n",
    "# 编译\n",
    "model.compile(loss='categorical_crossentropy', optimizer='adam', metrics=['accuracy'])"
   ]
  },
  {
   "cell_type": "code",
   "execution_count": 46,
   "metadata": {
    "collapsed": false
   },
   "outputs": [
    {
     "name": "stdout",
     "output_type": "stream",
     "text": [
      "Train on 31500 samples, validate on 10500 samples\n",
      "Epoch 1/69\n",
      "31500/31500 [==============================] - 31s - loss: 1.2685 - acc: 0.5619 - val_loss: 0.2464 - val_acc: 0.9350\n",
      "Epoch 2/69\n",
      "31500/31500 [==============================] - 35s - loss: 0.4143 - acc: 0.8781 - val_loss: 0.1320 - val_acc: 0.9629\n",
      "Epoch 3/69\n",
      "31500/31500 [==============================] - 31s - loss: 0.2799 - acc: 0.9183 - val_loss: 0.0996 - val_acc: 0.9701\n",
      "Epoch 4/69\n",
      "31500/31500 [==============================] - 29s - loss: 0.2284 - acc: 0.9368 - val_loss: 0.0797 - val_acc: 0.9766\n",
      "Epoch 5/69\n",
      "31500/31500 [==============================] - 31s - loss: 0.1966 - acc: 0.9454 - val_loss: 0.0740 - val_acc: 0.9788\n",
      "Epoch 6/69\n",
      "31500/31500 [==============================] - 31s - loss: 0.1754 - acc: 0.9517 - val_loss: 0.0644 - val_acc: 0.9818\n",
      "Epoch 7/69\n",
      "31500/31500 [==============================] - 33s - loss: 0.1599 - acc: 0.9558 - val_loss: 0.0642 - val_acc: 0.9813\n",
      "Epoch 8/69\n",
      "31500/31500 [==============================] - 31s - loss: 0.1502 - acc: 0.9589 - val_loss: 0.0548 - val_acc: 0.9845\n",
      "Epoch 9/69\n",
      "31500/31500 [==============================] - 35s - loss: 0.1355 - acc: 0.9634 - val_loss: 0.0571 - val_acc: 0.9826\n",
      "Epoch 10/69\n",
      "31500/31500 [==============================] - 32s - loss: 0.1302 - acc: 0.9643 - val_loss: 0.0523 - val_acc: 0.9862\n",
      "Epoch 11/69\n",
      "31500/31500 [==============================] - 32s - loss: 0.1235 - acc: 0.9650 - val_loss: 0.0490 - val_acc: 0.9866\n",
      "Epoch 12/69\n",
      "31500/31500 [==============================] - 32s - loss: 0.1169 - acc: 0.9685 - val_loss: 0.0477 - val_acc: 0.9871\n",
      "Epoch 13/69\n",
      "31500/31500 [==============================] - 30s - loss: 0.1167 - acc: 0.9688 - val_loss: 0.0503 - val_acc: 0.9871\n",
      "Epoch 14/69\n",
      "31500/31500 [==============================] - 30s - loss: 0.1081 - acc: 0.9721 - val_loss: 0.0457 - val_acc: 0.9878\n",
      "Epoch 15/69\n",
      "31500/31500 [==============================] - 31s - loss: 0.1057 - acc: 0.9714 - val_loss: 0.0458 - val_acc: 0.9875\n",
      "Epoch 16/69\n",
      "31500/31500 [==============================] - 31s - loss: 0.1032 - acc: 0.9722 - val_loss: 0.0462 - val_acc: 0.9885\n",
      "Epoch 17/69\n",
      "31500/31500 [==============================] - 34s - loss: 0.0954 - acc: 0.9742 - val_loss: 0.0436 - val_acc: 0.9889\n",
      "Epoch 18/69\n",
      "31500/31500 [==============================] - 31s - loss: 0.0940 - acc: 0.9741 - val_loss: 0.0411 - val_acc: 0.9897\n",
      "Epoch 19/69\n",
      "31500/31500 [==============================] - 38s - loss: 0.0913 - acc: 0.9754 - val_loss: 0.0414 - val_acc: 0.9892\n",
      "Epoch 20/69\n",
      "31500/31500 [==============================] - 35s - loss: 0.0912 - acc: 0.9760 - val_loss: 0.0414 - val_acc: 0.9901\n",
      "Epoch 21/69\n",
      "31500/31500 [==============================] - 32s - loss: 0.0866 - acc: 0.9763 - val_loss: 0.0413 - val_acc: 0.9893\n",
      "Epoch 22/69\n",
      "31500/31500 [==============================] - 32s - loss: 0.0853 - acc: 0.9774 - val_loss: 0.0431 - val_acc: 0.9890\n",
      "Epoch 23/69\n",
      "31500/31500 [==============================] - 35s - loss: 0.0815 - acc: 0.9781 - val_loss: 0.0387 - val_acc: 0.9903\n",
      "Epoch 24/69\n",
      "31500/31500 [==============================] - 34s - loss: 0.0846 - acc: 0.9773 - val_loss: 0.0405 - val_acc: 0.9895\n",
      "Epoch 25/69\n",
      "31500/31500 [==============================] - 30s - loss: 0.0824 - acc: 0.9775 - val_loss: 0.0365 - val_acc: 0.9903\n",
      "Epoch 26/69\n",
      "31500/31500 [==============================] - 30s - loss: 0.0792 - acc: 0.9782 - val_loss: 0.0376 - val_acc: 0.9907\n",
      "Epoch 27/69\n",
      "31500/31500 [==============================] - 32s - loss: 0.0744 - acc: 0.9796 - val_loss: 0.0408 - val_acc: 0.9896\n",
      "Epoch 28/69\n",
      "31500/31500 [==============================] - 32s - loss: 0.0774 - acc: 0.9790 - val_loss: 0.0398 - val_acc: 0.9908\n",
      "Epoch 29/69\n",
      "31500/31500 [==============================] - 31s - loss: 0.0746 - acc: 0.9794 - val_loss: 0.0382 - val_acc: 0.9896\n",
      "Epoch 30/69\n",
      "31500/31500 [==============================] - 34s - loss: 0.0776 - acc: 0.9784 - val_loss: 0.0379 - val_acc: 0.9902\n",
      "Epoch 31/69\n",
      "31500/31500 [==============================] - 33s - loss: 0.0729 - acc: 0.9804 - val_loss: 0.0337 - val_acc: 0.9916\n",
      "Epoch 32/69\n",
      "31500/31500 [==============================] - 30s - loss: 0.0698 - acc: 0.9815 - val_loss: 0.0391 - val_acc: 0.9905\n",
      "Epoch 33/69\n",
      "31500/31500 [==============================] - 31s - loss: 0.0700 - acc: 0.9808 - val_loss: 0.0386 - val_acc: 0.9900\n",
      "Epoch 34/69\n",
      "31500/31500 [==============================] - 31s - loss: 0.0671 - acc: 0.9812 - val_loss: 0.0370 - val_acc: 0.9907\n",
      "Epoch 35/69\n",
      "31500/31500 [==============================] - 30s - loss: 0.0687 - acc: 0.9807 - val_loss: 0.0359 - val_acc: 0.9907\n",
      "Epoch 36/69\n",
      "31500/31500 [==============================] - 30s - loss: 0.0696 - acc: 0.9811 - val_loss: 0.0357 - val_acc: 0.9900\n",
      "Epoch 37/69\n",
      "31500/31500 [==============================] - 30s - loss: 0.0683 - acc: 0.9809 - val_loss: 0.0353 - val_acc: 0.9906\n",
      "Epoch 38/69\n",
      "31500/31500 [==============================] - 30s - loss: 0.0635 - acc: 0.9816 - val_loss: 0.0368 - val_acc: 0.9904\n",
      "Epoch 39/69\n",
      "31500/31500 [==============================] - 30s - loss: 0.0643 - acc: 0.9824 - val_loss: 0.0358 - val_acc: 0.9911\n",
      "Epoch 40/69\n",
      "31500/31500 [==============================] - 37s - loss: 0.0683 - acc: 0.9822 - val_loss: 0.0356 - val_acc: 0.9916\n",
      "Epoch 41/69\n",
      "31500/31500 [==============================] - 34s - loss: 0.0633 - acc: 0.9825 - val_loss: 0.0345 - val_acc: 0.9912\n",
      "Epoch 42/69\n",
      "31500/31500 [==============================] - 39s - loss: 0.0612 - acc: 0.9827 - val_loss: 0.0325 - val_acc: 0.9924\n",
      "Epoch 43/69\n",
      "31500/31500 [==============================] - 38s - loss: 0.0629 - acc: 0.9829 - val_loss: 0.0321 - val_acc: 0.9911\n",
      "Epoch 44/69\n",
      "31500/31500 [==============================] - 37s - loss: 0.0620 - acc: 0.9826 - val_loss: 0.0346 - val_acc: 0.9911\n",
      "Epoch 45/69\n",
      "31500/31500 [==============================] - 32s - loss: 0.0613 - acc: 0.9829 - val_loss: 0.0361 - val_acc: 0.9905\n",
      "Epoch 46/69\n",
      "31500/31500 [==============================] - 31s - loss: 0.0613 - acc: 0.9829 - val_loss: 0.0343 - val_acc: 0.9915\n",
      "Epoch 47/69\n",
      "31500/31500 [==============================] - 29s - loss: 0.0587 - acc: 0.9841 - val_loss: 0.0336 - val_acc: 0.9925\n",
      "Epoch 48/69\n",
      "31500/31500 [==============================] - 30s - loss: 0.0566 - acc: 0.9836 - val_loss: 0.0330 - val_acc: 0.9916\n",
      "Epoch 49/69\n",
      "31500/31500 [==============================] - 32s - loss: 0.0553 - acc: 0.9841 - val_loss: 0.0341 - val_acc: 0.9914\n",
      "Epoch 50/69\n",
      "31500/31500 [==============================] - 32s - loss: 0.0566 - acc: 0.9850 - val_loss: 0.0338 - val_acc: 0.9917\n",
      "Epoch 51/69\n",
      "31500/31500 [==============================] - 35s - loss: 0.0548 - acc: 0.9843 - val_loss: 0.0350 - val_acc: 0.9912\n",
      "Epoch 52/69\n",
      "31500/31500 [==============================] - 31s - loss: 0.0594 - acc: 0.9830 - val_loss: 0.0350 - val_acc: 0.9922\n",
      "Epoch 53/69\n",
      "31500/31500 [==============================] - 31s - loss: 0.0586 - acc: 0.9839 - val_loss: 0.0348 - val_acc: 0.9917\n",
      "Epoch 54/69\n",
      "31500/31500 [==============================] - 30s - loss: 0.0538 - acc: 0.9840 - val_loss: 0.0343 - val_acc: 0.9914\n",
      "Epoch 55/69\n",
      "31500/31500 [==============================] - 32s - loss: 0.0522 - acc: 0.9851 - val_loss: 0.0366 - val_acc: 0.9917\n",
      "Epoch 56/69\n",
      "31500/31500 [==============================] - 31s - loss: 0.0573 - acc: 0.9836 - val_loss: 0.0327 - val_acc: 0.9925\n",
      "Epoch 57/69\n",
      "31500/31500 [==============================] - 38s - loss: 0.0560 - acc: 0.9839 - val_loss: 0.0343 - val_acc: 0.9922\n",
      "Epoch 58/69\n",
      "31500/31500 [==============================] - 31s - loss: 0.0551 - acc: 0.9847 - val_loss: 0.0346 - val_acc: 0.9922\n",
      "Epoch 59/69\n",
      "31500/31500 [==============================] - 39s - loss: 0.0544 - acc: 0.9850 - val_loss: 0.0339 - val_acc: 0.9920\n",
      "Epoch 60/69\n",
      "31500/31500 [==============================] - 37s - loss: 0.0533 - acc: 0.9846 - val_loss: 0.0341 - val_acc: 0.9922\n",
      "Epoch 61/69\n",
      "31500/31500 [==============================] - 33s - loss: 0.0532 - acc: 0.9845 - val_loss: 0.0341 - val_acc: 0.9930\n",
      "Epoch 62/69\n",
      "31500/31500 [==============================] - 32s - loss: 0.0523 - acc: 0.9850 - val_loss: 0.0337 - val_acc: 0.9927\n",
      "Epoch 63/69\n",
      "31500/31500 [==============================] - 32s - loss: 0.0513 - acc: 0.9859 - val_loss: 0.0360 - val_acc: 0.9923\n",
      "Epoch 64/69\n",
      "31500/31500 [==============================] - 29s - loss: 0.0526 - acc: 0.9846 - val_loss: 0.0346 - val_acc: 0.9919\n",
      "Epoch 65/69\n",
      "31500/31500 [==============================] - 30s - loss: 0.0519 - acc: 0.9853 - val_loss: 0.0332 - val_acc: 0.9922\n",
      "Epoch 66/69\n",
      "31500/31500 [==============================] - 29s - loss: 0.0504 - acc: 0.9858 - val_loss: 0.0335 - val_acc: 0.9922\n",
      "Epoch 67/69\n",
      "31500/31500 [==============================] - 29s - loss: 0.0520 - acc: 0.9855 - val_loss: 0.0325 - val_acc: 0.9930\n",
      "Epoch 68/69\n",
      "31500/31500 [==============================] - 30s - loss: 0.0471 - acc: 0.9863 - val_loss: 0.0357 - val_acc: 0.9926\n",
      "Epoch 69/69\n",
      "31500/31500 [==============================] - 32s - loss: 0.0469 - acc: 0.9875 - val_loss: 0.0353 - val_acc: 0.9923\n"
     ]
    }
   ],
   "source": [
    "# nb_epoch 为训练的轮数，nb统一表示为number of\n",
    "# batch_size 为进行梯度下降时间每个批次包含的样本数\n",
    "# verbose 为日志显示，0为不在标准输出流输出日志信息，1为输出进度条记录，2为每个epoch输出一行记录\n",
    "hist = model.fit(X_train1, y_train1, validation_data=(X_train2, y_train2), nb_epoch=69, batch_size=200, verbose=1)"
   ]
  },
  {
   "cell_type": "code",
   "execution_count": 47,
   "metadata": {
    "collapsed": false
   },
   "outputs": [
    {
     "name": "stdout",
     "output_type": "stream",
     "text": [
      "42000/42000 [==============================] - 30s    \n"
     ]
    }
   ],
   "source": [
    "# 对结果在整个训练集上进行评估\n",
    "scores = model.evaluate(X_train, y_train, verbose=1)"
   ]
  },
  {
   "cell_type": "code",
   "execution_count": 48,
   "metadata": {
    "collapsed": false
   },
   "outputs": [
    {
     "name": "stdout",
     "output_type": "stream",
     "text": [
      "('Test score:', 0.014837200643968183)\n",
      "('Test accuracy:', 0.9964047619047619)\n"
     ]
    }
   ],
   "source": [
    "print('Test score:', scores[0])\n",
    "print('Test accuracy:', scores[1])"
   ]
  },
  {
   "cell_type": "code",
   "execution_count": 55,
   "metadata": {
    "collapsed": false
   },
   "outputs": [
    {
     "data": {
      "image/png": "[encoded data removed]",
      "text/plain": [
       "<matplotlib.figure.Figure at 0x1207bd650>"
      ]
     },
     "metadata": {},
     "output_type": "display_data"
    }
   ],
   "source": [
    "# 可视化一下，看看最后是否收敛\n",
    "plt.plot(range(len(hist.history['acc'])), hist.history['acc'])\n",
    "plt.xlabel('nb_epoch')\n",
    "plt.ylabel('accuracy')\n",
    "plt.show()"
   ]
  },
  {
   "cell_type": "code",
   "execution_count": 51,
   "metadata": {
    "collapsed": false
   },
   "outputs": [
    {
     "name": "stdout",
     "output_type": "stream",
     "text": [
      "28000/28000 [==============================] - 20s    \n"
     ]
    }
   ],
   "source": [
    "yPred = model.predict_classes(X_test)"
   ]
  },
  {
   "cell_type": "code",
   "execution_count": 57,
   "metadata": {
    "collapsed": true
   },
   "outputs": [],
   "source": [
    "# 保存结果输出为csv文件\n",
    "mnistSubmission = pd.DataFrame({\n",
    "        'ImageID': range(1, len(yPred)+1),\n",
    "        'Label': yPred\n",
    "    })\n",
    "mnistSubmission.to_csv('mnistSubmission.csv', index=False)"
   ]
  },
  {
   "cell_type": "markdown",
   "metadata": {},
   "source": [
    "# 提交后准确率0.99214"
   ]
  },
  {
   "cell_type": "code",
   "execution_count": null,
   "metadata": {
    "collapsed": true
   },
   "outputs": [],
   "source": []
  }
 ],
 "metadata": {
  "kernelspec": {
   "display_name": "Python [conda root]",
   "language": "python",
   "name": "conda-root-py"
  },
  "language_info": {
   "codemirror_mode": {
    "name": "ipython",
    "version": 2
   },
   "file_extension": ".py",
   "mimetype": "text/x-python",
   "name": "python",
   "nbconvert_exporter": "python",
   "pygments_lexer": "ipython2",
   "version": "2.7.12"
  }
 },
 "nbformat": 4,
 "nbformat_minor": 1
}
